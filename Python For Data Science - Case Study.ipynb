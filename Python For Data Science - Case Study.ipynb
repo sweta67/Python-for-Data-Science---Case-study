{
 "cells": [
  {
   "cell_type": "code",
   "execution_count": null,
   "metadata": {},
   "outputs": [],
   "source": [
    "# Q1 : First, after reading this data in Python,do some basic checks on the data to understand its contents.\n",
    "# The data consists of ___ rows and ___ columns\n",
    "\n",
    "#Answer 1 : 6991\n",
    "#Answer 2 : 23"
   ]
  },
  {
   "cell_type": "code",
   "execution_count": 1,
   "metadata": {},
   "outputs": [],
   "source": [
    "import pandas as pd\n",
    "import numpy as np"
   ]
  },
  {
   "cell_type": "code",
   "execution_count": 2,
   "metadata": {},
   "outputs": [],
   "source": [
    "data = pd.read_csv(\"stackoverflow-1.csv\",sep=\",\",header=0)"
   ]
  },
  {
   "cell_type": "code",
   "execution_count": 3,
   "metadata": {},
   "outputs": [
    {
     "data": {
      "text/plain": [
       "(6991, 23)"
      ]
     },
     "execution_count": 3,
     "metadata": {},
     "output_type": "execute_result"
    }
   ],
   "source": [
    "data.shape"
   ]
  },
  {
   "cell_type": "code",
   "execution_count": null,
   "metadata": {},
   "outputs": [],
   "source": [
    "# Q2 : First, after reading this data in Python,do some basic checks on the data to understand its contents.\n",
    "# There are ___ missing values in the column ___.\n",
    "# (Hint: There is only one column in the data with missing values)\n",
    "\n",
    "#Answer 1: 31\n",
    "#Answer 2: CompanySizeNumber"
   ]
  },
  {
   "cell_type": "code",
   "execution_count": 4,
   "metadata": {},
   "outputs": [
    {
     "data": {
      "text/plain": [
       "RespondentID                               0\n",
       "Country                                    0\n",
       "Salary                                     0\n",
       "YearsCodedJob                              0\n",
       "OpenSource                                 0\n",
       "Hobby                                      0\n",
       "CompanySizeNumber                         31\n",
       "Remote                                     0\n",
       "CareerSatisfaction                         0\n",
       "Datascientist                              0\n",
       "Database administrator                     0\n",
       "Desktop applications developer             0\n",
       "Developer with stats/math background       0\n",
       "DevOps                                     0\n",
       "Embedded developer                         0\n",
       "Graphic designer                           0\n",
       "Graphics programming                       0\n",
       "Machine learning specialist                0\n",
       "Mobile developer                           0\n",
       "Quality assurance engineer                 0\n",
       "Systems administrator                      0\n",
       "Web developer                              0\n",
       "                                        6991\n",
       "dtype: int64"
      ]
     },
     "execution_count": 4,
     "metadata": {},
     "output_type": "execute_result"
    }
   ],
   "source": [
    "data.isnull().sum()"
   ]
  },
  {
   "cell_type": "code",
   "execution_count": null,
   "metadata": {},
   "outputs": [],
   "source": [
    "# Q3 : First, after reading this data in Python , do some basic checks on the data to understand its contents.\n",
    "# There are  ___ unique countries in the dataframe stackoverflow.\n",
    "\n",
    "# Answer : 5"
   ]
  },
  {
   "cell_type": "code",
   "execution_count": 5,
   "metadata": {},
   "outputs": [
    {
     "data": {
      "text/plain": [
       "['RespondentID',\n",
       " 'Country',\n",
       " 'Salary',\n",
       " 'YearsCodedJob',\n",
       " 'OpenSource',\n",
       " 'Hobby',\n",
       " 'CompanySizeNumber',\n",
       " 'Remote',\n",
       " 'CareerSatisfaction',\n",
       " 'Datascientist',\n",
       " 'Database administrator',\n",
       " 'Desktop applications developer',\n",
       " 'Developer with stats/math background',\n",
       " 'DevOps',\n",
       " 'Embedded developer',\n",
       " 'Graphic designer',\n",
       " 'Graphics programming',\n",
       " 'Machine learning specialist',\n",
       " 'Mobile developer',\n",
       " 'Quality assurance engineer',\n",
       " 'Systems administrator',\n",
       " 'Web developer',\n",
       " '    ']"
      ]
     },
     "execution_count": 5,
     "metadata": {},
     "output_type": "execute_result"
    }
   ],
   "source": [
    "data.columns.tolist()"
   ]
  },
  {
   "cell_type": "code",
   "execution_count": 6,
   "metadata": {},
   "outputs": [
    {
     "data": {
      "text/plain": [
       "array(['United Kingdom', 'United States', 'Germany', 'India', 'Canada'],\n",
       "      dtype=object)"
      ]
     },
     "execution_count": 6,
     "metadata": {},
     "output_type": "execute_result"
    }
   ],
   "source": [
    "data['Country'].unique()"
   ]
  },
  {
   "cell_type": "code",
   "execution_count": null,
   "metadata": {},
   "outputs": [],
   "source": [
    "# Q4 : First, after reading this data in Python , do some basic checks on the data to understand its contents.\n",
    "# There are ___ Indian Data Scientists present in the data.\n",
    "# (Hint: Filter using Country and Data scientist column)\n",
    "\n",
    "#Answer : 43"
   ]
  },
  {
   "cell_type": "code",
   "execution_count": 7,
   "metadata": {},
   "outputs": [
    {
     "data": {
      "text/plain": [
       "array([0, 1], dtype=int64)"
      ]
     },
     "execution_count": 7,
     "metadata": {},
     "output_type": "execute_result"
    }
   ],
   "source": [
    "data['Datascientist'].unique()"
   ]
  },
  {
   "cell_type": "code",
   "execution_count": 8,
   "metadata": {},
   "outputs": [
    {
     "data": {
      "text/plain": [
       "(43, 23)"
      ]
     },
     "execution_count": 8,
     "metadata": {},
     "output_type": "execute_result"
    }
   ],
   "source": [
    "data.query(\"Country == 'India' & Datascientist == 1\").shape"
   ]
  },
  {
   "cell_type": "code",
   "execution_count": null,
   "metadata": {},
   "outputs": [],
   "source": [
    "# Q5 : First, after reading this data in Python , do some basic checks on the data to \n",
    "# understand its contents.\n",
    "# ___ respondents work remotely in this data.\n",
    "# (Hint: Calculate the total counts of label – “Remote” in the Remote column)\n",
    "\n",
    "#Answer : 718"
   ]
  },
  {
   "cell_type": "code",
   "execution_count": 9,
   "metadata": {},
   "outputs": [
    {
     "data": {
      "text/plain": [
       "array(['Not remote', 'Remote'], dtype=object)"
      ]
     },
     "execution_count": 9,
     "metadata": {},
     "output_type": "execute_result"
    }
   ],
   "source": [
    "data['Remote'].unique()"
   ]
  },
  {
   "cell_type": "code",
   "execution_count": 10,
   "metadata": {},
   "outputs": [
    {
     "data": {
      "text/plain": [
       "(718, 23)"
      ]
     },
     "execution_count": 10,
     "metadata": {},
     "output_type": "execute_result"
    }
   ],
   "source": [
    "data[data['Remote']=='Remote'].shape"
   ]
  },
  {
   "cell_type": "code",
   "execution_count": null,
   "metadata": {},
   "outputs": [],
   "source": [
    "# Q6 : First, after reading this data in Python , do some basic checks on the data to understand its contents.\n",
    "# ___ is the count of Germans who have more than 10 years of coding experience\n",
    "# (Hint: Use Country and YearsCodedJob columns)\n",
    "\n",
    "#Answer : 181"
   ]
  },
  {
   "cell_type": "code",
   "execution_count": 11,
   "metadata": {},
   "outputs": [
    {
     "data": {
      "text/plain": [
       "array([20,  3, 16,  4,  1, 13,  7, 17, 10,  9, 14,  2,  5, 15,  8, 11,  6,\n",
       "       18, 19, 12,  0], dtype=int64)"
      ]
     },
     "execution_count": 11,
     "metadata": {},
     "output_type": "execute_result"
    }
   ],
   "source": [
    "data['YearsCodedJob'].unique()"
   ]
  },
  {
   "cell_type": "code",
   "execution_count": 12,
   "metadata": {},
   "outputs": [
    {
     "data": {
      "text/plain": [
       "(181, 23)"
      ]
     },
     "execution_count": 12,
     "metadata": {},
     "output_type": "execute_result"
    }
   ],
   "source": [
    "data.query(\"Country=='Germany' & YearsCodedJob > 10\").shape"
   ]
  },
  {
   "cell_type": "code",
   "execution_count": null,
   "metadata": {},
   "outputs": [],
   "source": [
    "# Q7 : Now that you have the basic idea of how the data looks like, try to find group \n",
    "# wise summaries by various columns. Can you answer the following questions?\n",
    "\n",
    "# Country _______ has maximum average Salary? (Hint: Calculate average salary by \n",
    "# countries. Fill the same label as mentioned in the data for the country that shows highest average salary.)\n",
    "\n",
    "#Answer : United States"
   ]
  },
  {
   "cell_type": "code",
   "execution_count": 13,
   "metadata": {},
   "outputs": [
    {
     "data": {
      "text/html": [
       "<div>\n",
       "<style scoped>\n",
       "    .dataframe tbody tr th:only-of-type {\n",
       "        vertical-align: middle;\n",
       "    }\n",
       "\n",
       "    .dataframe tbody tr th {\n",
       "        vertical-align: top;\n",
       "    }\n",
       "\n",
       "    .dataframe thead th {\n",
       "        text-align: right;\n",
       "    }\n",
       "</style>\n",
       "<table border=\"1\" class=\"dataframe\">\n",
       "  <thead>\n",
       "    <tr style=\"text-align: right;\">\n",
       "      <th></th>\n",
       "      <th>Country</th>\n",
       "      <th>Salary</th>\n",
       "    </tr>\n",
       "  </thead>\n",
       "  <tbody>\n",
       "    <tr>\n",
       "      <td>4</td>\n",
       "      <td>United States</td>\n",
       "      <td>98313.127654</td>\n",
       "    </tr>\n",
       "    <tr>\n",
       "      <td>0</td>\n",
       "      <td>Canada</td>\n",
       "      <td>58226.407451</td>\n",
       "    </tr>\n",
       "    <tr>\n",
       "      <td>3</td>\n",
       "      <td>United Kingdom</td>\n",
       "      <td>53962.871808</td>\n",
       "    </tr>\n",
       "    <tr>\n",
       "      <td>1</td>\n",
       "      <td>Germany</td>\n",
       "      <td>52405.823429</td>\n",
       "    </tr>\n",
       "    <tr>\n",
       "      <td>2</td>\n",
       "      <td>India</td>\n",
       "      <td>11557.674529</td>\n",
       "    </tr>\n",
       "  </tbody>\n",
       "</table>\n",
       "</div>"
      ],
      "text/plain": [
       "          Country        Salary\n",
       "4   United States  98313.127654\n",
       "0          Canada  58226.407451\n",
       "3  United Kingdom  53962.871808\n",
       "1         Germany  52405.823429\n",
       "2           India  11557.674529"
      ]
     },
     "execution_count": 13,
     "metadata": {},
     "output_type": "execute_result"
    }
   ],
   "source": [
    "data.groupby(\"Country\",as_index=False).agg({'Salary':np.mean}).sort_values(\"Salary\",ascending=False)"
   ]
  },
  {
   "cell_type": "code",
   "execution_count": null,
   "metadata": {},
   "outputs": [],
   "source": [
    "# Q8 : Now that you have the basic idea of how the data looks like, try to find group wise summaries by various columns. \n",
    "# Can you answer the following questions?\n",
    "\n",
    "# Country ________ has least remote workers (Hint: Flag Remote column as 1, 0 where 1 indicates the label Remote. \n",
    "# Then create groupby summary using Country and remote column. Enter the Country name that has least remote workers)\n",
    "\n",
    "#Answer : Canada"
   ]
  },
  {
   "cell_type": "code",
   "execution_count": 14,
   "metadata": {},
   "outputs": [],
   "source": [
    "data1 = pd.read_csv(\"stackoverflow-1.csv\",sep=\",\",header=0)"
   ]
  },
  {
   "cell_type": "code",
   "execution_count": 15,
   "metadata": {},
   "outputs": [
    {
     "data": {
      "text/plain": [
       "array(['Not remote', 'Remote'], dtype=object)"
      ]
     },
     "execution_count": 15,
     "metadata": {},
     "output_type": "execute_result"
    }
   ],
   "source": [
    "data1['Remote'].unique()"
   ]
  },
  {
   "cell_type": "code",
   "execution_count": 16,
   "metadata": {},
   "outputs": [],
   "source": [
    "def get_label(x):\n",
    "    if x=='Remote':\n",
    "        return 1\n",
    "    else:\n",
    "        return 0\n",
    "data1['Remote']=data1['Remote'].map(get_label)"
   ]
  },
  {
   "cell_type": "code",
   "execution_count": 17,
   "metadata": {},
   "outputs": [],
   "source": [
    "data1=data1[data1['Remote']==1]"
   ]
  },
  {
   "cell_type": "code",
   "execution_count": 18,
   "metadata": {},
   "outputs": [
    {
     "data": {
      "text/plain": [
       "array([1], dtype=int64)"
      ]
     },
     "execution_count": 18,
     "metadata": {},
     "output_type": "execute_result"
    }
   ],
   "source": [
    "data1['Remote'].unique()"
   ]
  },
  {
   "cell_type": "code",
   "execution_count": 19,
   "metadata": {},
   "outputs": [
    {
     "data": {
      "text/html": [
       "<div>\n",
       "<style scoped>\n",
       "    .dataframe tbody tr th:only-of-type {\n",
       "        vertical-align: middle;\n",
       "    }\n",
       "\n",
       "    .dataframe tbody tr th {\n",
       "        vertical-align: top;\n",
       "    }\n",
       "\n",
       "    .dataframe thead th {\n",
       "        text-align: right;\n",
       "    }\n",
       "</style>\n",
       "<table border=\"1\" class=\"dataframe\">\n",
       "  <thead>\n",
       "    <tr style=\"text-align: right;\">\n",
       "      <th></th>\n",
       "      <th>Remote</th>\n",
       "    </tr>\n",
       "    <tr>\n",
       "      <th>Country</th>\n",
       "      <th></th>\n",
       "    </tr>\n",
       "  </thead>\n",
       "  <tbody>\n",
       "    <tr>\n",
       "      <td>Canada</td>\n",
       "      <td>43</td>\n",
       "    </tr>\n",
       "    <tr>\n",
       "      <td>Germany</td>\n",
       "      <td>49</td>\n",
       "    </tr>\n",
       "    <tr>\n",
       "      <td>India</td>\n",
       "      <td>66</td>\n",
       "    </tr>\n",
       "    <tr>\n",
       "      <td>United Kingdom</td>\n",
       "      <td>85</td>\n",
       "    </tr>\n",
       "    <tr>\n",
       "      <td>United States</td>\n",
       "      <td>475</td>\n",
       "    </tr>\n",
       "  </tbody>\n",
       "</table>\n",
       "</div>"
      ],
      "text/plain": [
       "                Remote\n",
       "Country               \n",
       "Canada              43\n",
       "Germany             49\n",
       "India               66\n",
       "United Kingdom      85\n",
       "United States      475"
      ]
     },
     "execution_count": 19,
     "metadata": {},
     "output_type": "execute_result"
    }
   ],
   "source": [
    "data1.groupby('Country').agg({'Remote':'count'})"
   ]
  },
  {
   "cell_type": "code",
   "execution_count": null,
   "metadata": {},
   "outputs": [],
   "source": [
    "#Q9 : Now that you have the basic idea of how the data looks like, try to find group wise summaries by various columns. \n",
    "# Can you answer the following questions?\n",
    "# ____% is the percentage of Mobile Developers in the data. (Hint: Use Mobile Developer column. \n",
    "# The answer should be rounded off in terms of percentage. Eg. 10%)\n",
    "\n",
    "#Answer : 19"
   ]
  },
  {
   "cell_type": "code",
   "execution_count": 20,
   "metadata": {},
   "outputs": [
    {
     "data": {
      "text/plain": [
       "6991"
      ]
     },
     "execution_count": 20,
     "metadata": {},
     "output_type": "execute_result"
    }
   ],
   "source": [
    "total_obs = data.shape[0]\n",
    "total_obs"
   ]
  },
  {
   "cell_type": "code",
   "execution_count": 21,
   "metadata": {},
   "outputs": [
    {
     "data": {
      "text/plain": [
       "1356"
      ]
     },
     "execution_count": 21,
     "metadata": {},
     "output_type": "execute_result"
    }
   ],
   "source": [
    "mob_dev = data[data['Mobile developer']==1].shape[0]\n",
    "mob_dev"
   ]
  },
  {
   "cell_type": "code",
   "execution_count": 22,
   "metadata": {},
   "outputs": [
    {
     "data": {
      "text/plain": [
       "0.19396366757259334"
      ]
     },
     "execution_count": 22,
     "metadata": {},
     "output_type": "execute_result"
    }
   ],
   "source": [
    "per = 1356/6991\n",
    "per"
   ]
  },
  {
   "cell_type": "code",
   "execution_count": 23,
   "metadata": {},
   "outputs": [
    {
     "data": {
      "text/plain": [
       "19"
      ]
     },
     "execution_count": 23,
     "metadata": {},
     "output_type": "execute_result"
    }
   ],
   "source": [
    "round(0.19396366757259334*100)"
   ]
  },
  {
   "cell_type": "code",
   "execution_count": null,
   "metadata": {},
   "outputs": [],
   "source": [
    "#Q10 : Now that you have the basic idea of how the data looks like, try to find group wise summaries by various columns. \n",
    "# Can you answer the following questions?\n",
    "# ____% is the percentage of Web Developers in the data. (Hint: Use Web Developer column. \n",
    "# The answer should be rounded off in terms of percentage. Eg. 10%)\n",
    "\n",
    "#Answer : 72"
   ]
  },
  {
   "cell_type": "code",
   "execution_count": 24,
   "metadata": {},
   "outputs": [
    {
     "data": {
      "text/plain": [
       "array([0, 1], dtype=int64)"
      ]
     },
     "execution_count": 24,
     "metadata": {},
     "output_type": "execute_result"
    }
   ],
   "source": [
    "data['Web developer'].unique()"
   ]
  },
  {
   "cell_type": "code",
   "execution_count": 25,
   "metadata": {},
   "outputs": [
    {
     "data": {
      "text/plain": [
       "6991"
      ]
     },
     "execution_count": 25,
     "metadata": {},
     "output_type": "execute_result"
    }
   ],
   "source": [
    "data.shape[0]"
   ]
  },
  {
   "cell_type": "code",
   "execution_count": 26,
   "metadata": {},
   "outputs": [
    {
     "data": {
      "text/plain": [
       "5062"
      ]
     },
     "execution_count": 26,
     "metadata": {},
     "output_type": "execute_result"
    }
   ],
   "source": [
    "data[data['Web developer']==1].shape[0]"
   ]
  },
  {
   "cell_type": "code",
   "execution_count": 27,
   "metadata": {},
   "outputs": [
    {
     "data": {
      "text/plain": [
       "0.7240738091832356"
      ]
     },
     "execution_count": 27,
     "metadata": {},
     "output_type": "execute_result"
    }
   ],
   "source": [
    "per = 5062/6991\n",
    "per"
   ]
  },
  {
   "cell_type": "code",
   "execution_count": 28,
   "metadata": {},
   "outputs": [
    {
     "data": {
      "text/plain": [
       "72"
      ]
     },
     "execution_count": 28,
     "metadata": {},
     "output_type": "execute_result"
    }
   ],
   "source": [
    "round(0.7240738091832356*100)"
   ]
  },
  {
   "cell_type": "code",
   "execution_count": null,
   "metadata": {},
   "outputs": [],
   "source": [
    "#Q11 : Now that you have the basic idea of how the data looks like, try to find group wise summaries by various columns. \n",
    "# Can you answer the following questions?\n",
    "# ___ is the number of profiles who are Mobile Developers and Web Developers and who work remotely?\n",
    "# (Hint: Use Mobile Developer,Web Developer and Remote column)\n",
    "\n",
    "#Answer : 115"
   ]
  },
  {
   "cell_type": "code",
   "execution_count": 29,
   "metadata": {},
   "outputs": [
    {
     "data": {
      "text/plain": [
       "array([1], dtype=int64)"
      ]
     },
     "execution_count": 29,
     "metadata": {},
     "output_type": "execute_result"
    }
   ],
   "source": [
    "data1['Remote'].unique()"
   ]
  },
  {
   "cell_type": "code",
   "execution_count": 30,
   "metadata": {},
   "outputs": [],
   "source": [
    "data12=data1[(data1['Mobile developer']==1) & data1['Web developer']==1]"
   ]
  },
  {
   "cell_type": "code",
   "execution_count": 31,
   "metadata": {},
   "outputs": [
    {
     "data": {
      "text/plain": [
       "115"
      ]
     },
     "execution_count": 31,
     "metadata": {},
     "output_type": "execute_result"
    }
   ],
   "source": [
    "data12.shape[0]"
   ]
  },
  {
   "cell_type": "code",
   "execution_count": null,
   "metadata": {},
   "outputs": [],
   "source": [
    "#Q12 : Now that you have the basic idea of how the data looks like, try to find group wise summaries by various columns. \n",
    "#Can you answer the following questions?\n",
    "\n",
    "#If we calculate the following \n",
    "#i) maximum salary and average years of coding job of profiles by each Country\n",
    "#ii) sort the salary column in the output obtained in descending order\n",
    "#iii) Select columns Country, Salary and YearsCodedJob\n",
    "\n",
    "#Following is the output we get. Fill in the blanks.\n",
    "\n",
    "#Country           Salary        YearsCodedJob\n",
    "#United States     197000                 8.40\n",
    "#United Kingdom    ______                 ____\n",
    "#India             ______                 3.70\n",
    "#Canada            151515                 ____\n",
    "#Germany           140000                 7.06\n",
    "\n",
    "#Hint - Salary column, round the values to integer \"YearsCodedJob\" column should be rounded to two decimal places.\n",
    "\n",
    "#Answer :\n",
    "#Country           Salary        YearsCodedJob\n",
    "#United States     197000                 8.40\n",
    "#United Kingdom    193750                 7.32\n",
    "#India             163135                 3.70\n",
    "#Canada            151515                 7.52\n",
    "#Germany           140000                 7.06 "
   ]
  },
  {
   "cell_type": "code",
   "execution_count": 32,
   "metadata": {},
   "outputs": [],
   "source": [
    "data=pd.read_csv('stackoverflow-1.csv',sep=',',header=0)"
   ]
  },
  {
   "cell_type": "code",
   "execution_count": 33,
   "metadata": {},
   "outputs": [],
   "source": [
    "data13=data.groupby('Country').agg({'Salary':np.max,'YearsCodedJob':np.mean}).sort_values('Salary',ascending=False)"
   ]
  },
  {
   "cell_type": "code",
   "execution_count": 34,
   "metadata": {},
   "outputs": [
    {
     "data": {
      "text/html": [
       "<div>\n",
       "<style scoped>\n",
       "    .dataframe tbody tr th:only-of-type {\n",
       "        vertical-align: middle;\n",
       "    }\n",
       "\n",
       "    .dataframe tbody tr th {\n",
       "        vertical-align: top;\n",
       "    }\n",
       "\n",
       "    .dataframe thead th {\n",
       "        text-align: right;\n",
       "    }\n",
       "</style>\n",
       "<table border=\"1\" class=\"dataframe\">\n",
       "  <thead>\n",
       "    <tr style=\"text-align: right;\">\n",
       "      <th></th>\n",
       "      <th>Salary</th>\n",
       "      <th>YearsCodedJob</th>\n",
       "    </tr>\n",
       "    <tr>\n",
       "      <th>Country</th>\n",
       "      <th></th>\n",
       "      <th></th>\n",
       "    </tr>\n",
       "  </thead>\n",
       "  <tbody>\n",
       "    <tr>\n",
       "      <td>United States</td>\n",
       "      <td>197000.0000</td>\n",
       "      <td>8.397877</td>\n",
       "    </tr>\n",
       "    <tr>\n",
       "      <td>United Kingdom</td>\n",
       "      <td>193750.0000</td>\n",
       "      <td>7.315748</td>\n",
       "    </tr>\n",
       "    <tr>\n",
       "      <td>India</td>\n",
       "      <td>163134.7967</td>\n",
       "      <td>3.696697</td>\n",
       "    </tr>\n",
       "    <tr>\n",
       "      <td>Canada</td>\n",
       "      <td>151515.1515</td>\n",
       "      <td>7.523425</td>\n",
       "    </tr>\n",
       "    <tr>\n",
       "      <td>Germany</td>\n",
       "      <td>140000.0000</td>\n",
       "      <td>7.058947</td>\n",
       "    </tr>\n",
       "  </tbody>\n",
       "</table>\n",
       "</div>"
      ],
      "text/plain": [
       "                     Salary  YearsCodedJob\n",
       "Country                                   \n",
       "United States   197000.0000       8.397877\n",
       "United Kingdom  193750.0000       7.315748\n",
       "India           163134.7967       3.696697\n",
       "Canada          151515.1515       7.523425\n",
       "Germany         140000.0000       7.058947"
      ]
     },
     "execution_count": 34,
     "metadata": {},
     "output_type": "execute_result"
    }
   ],
   "source": [
    "data13"
   ]
  },
  {
   "cell_type": "code",
   "execution_count": 35,
   "metadata": {},
   "outputs": [],
   "source": [
    "data13['Salary']=round(data13['Salary'])"
   ]
  },
  {
   "cell_type": "code",
   "execution_count": 36,
   "metadata": {},
   "outputs": [],
   "source": [
    "data13['YearsCodedJob']=round(data13['YearsCodedJob'],2)"
   ]
  },
  {
   "cell_type": "code",
   "execution_count": 37,
   "metadata": {},
   "outputs": [
    {
     "data": {
      "text/html": [
       "<div>\n",
       "<style scoped>\n",
       "    .dataframe tbody tr th:only-of-type {\n",
       "        vertical-align: middle;\n",
       "    }\n",
       "\n",
       "    .dataframe tbody tr th {\n",
       "        vertical-align: top;\n",
       "    }\n",
       "\n",
       "    .dataframe thead th {\n",
       "        text-align: right;\n",
       "    }\n",
       "</style>\n",
       "<table border=\"1\" class=\"dataframe\">\n",
       "  <thead>\n",
       "    <tr style=\"text-align: right;\">\n",
       "      <th></th>\n",
       "      <th>Salary</th>\n",
       "      <th>YearsCodedJob</th>\n",
       "    </tr>\n",
       "    <tr>\n",
       "      <th>Country</th>\n",
       "      <th></th>\n",
       "      <th></th>\n",
       "    </tr>\n",
       "  </thead>\n",
       "  <tbody>\n",
       "    <tr>\n",
       "      <td>United States</td>\n",
       "      <td>197000.0</td>\n",
       "      <td>8.40</td>\n",
       "    </tr>\n",
       "    <tr>\n",
       "      <td>United Kingdom</td>\n",
       "      <td>193750.0</td>\n",
       "      <td>7.32</td>\n",
       "    </tr>\n",
       "    <tr>\n",
       "      <td>India</td>\n",
       "      <td>163135.0</td>\n",
       "      <td>3.70</td>\n",
       "    </tr>\n",
       "    <tr>\n",
       "      <td>Canada</td>\n",
       "      <td>151515.0</td>\n",
       "      <td>7.52</td>\n",
       "    </tr>\n",
       "    <tr>\n",
       "      <td>Germany</td>\n",
       "      <td>140000.0</td>\n",
       "      <td>7.06</td>\n",
       "    </tr>\n",
       "  </tbody>\n",
       "</table>\n",
       "</div>"
      ],
      "text/plain": [
       "                  Salary  YearsCodedJob\n",
       "Country                                \n",
       "United States   197000.0           8.40\n",
       "United Kingdom  193750.0           7.32\n",
       "India           163135.0           3.70\n",
       "Canada          151515.0           7.52\n",
       "Germany         140000.0           7.06"
      ]
     },
     "execution_count": 37,
     "metadata": {},
     "output_type": "execute_result"
    }
   ],
   "source": [
    "data13"
   ]
  },
  {
   "cell_type": "code",
   "execution_count": null,
   "metadata": {},
   "outputs": [],
   "source": [
    "#Q13 : After creating group wise summaries to understand the data, we can create new columns in the data that can be used for \n",
    "# modelling later on –\n",
    "\n",
    "# a. Lets say you create a new variable (Company_label) that consists of labels for CompanySizeNumber as low, medium and high. \n",
    "#You can do that by defining a function. The rows where the values of this column are less than 20, label them as low. \n",
    "#The rows where the values of this column are between 20 and 1000 label them as medium and the rows where the values of this \n",
    "#column are greater than 1000 label them as high. Once you do that what would be the frequency count for each label in the \n",
    "#newly created column – (Company_label). Fill in the blanks\n",
    "\n",
    "# high           1530\n",
    "# medium         ____\n",
    "# low            ____\n",
    "\n",
    "# (Hint: You can define a function or use nested lambda and map function to create new labels. Sample function is as below –\n",
    "\n",
    "#                                          def new_func(x):\n",
    "\n",
    "#                                                         if x  < 10:\n",
    "\n",
    "#                                                               return 1\n",
    "\n",
    "#                                                         elif  10 <= x <= 20:\n",
    "\n",
    "#                                                               return 2\n",
    "\n",
    "#                                                         else:\n",
    "\n",
    "#                                                               return 3\n",
    "\n",
    " \n",
    "\n",
    "# To apply this function to a column use:\n",
    "\n",
    "#                                   data['new_Col']    =  data['Col'].map(new_func)\n",
    "\n",
    "#Answer :\n",
    "# high           1530\n",
    "# medium         4305 \n",
    "# low            1156"
   ]
  },
  {
   "cell_type": "code",
   "execution_count": 38,
   "metadata": {},
   "outputs": [],
   "source": [
    "def new_func(x):\n",
    "    if x<20:\n",
    "        return 'low'\n",
    "    elif 20<=x<=1000:\n",
    "        return 'medium'\n",
    "    else:\n",
    "        return 'high'\n",
    "\n",
    "data['Company_label']=data['CompanySizeNumber'].map(new_func)"
   ]
  },
  {
   "cell_type": "code",
   "execution_count": 39,
   "metadata": {},
   "outputs": [
    {
     "data": {
      "text/plain": [
       "['RespondentID',\n",
       " 'Country',\n",
       " 'Salary',\n",
       " 'YearsCodedJob',\n",
       " 'OpenSource',\n",
       " 'Hobby',\n",
       " 'CompanySizeNumber',\n",
       " 'Remote',\n",
       " 'CareerSatisfaction',\n",
       " 'Datascientist',\n",
       " 'Database administrator',\n",
       " 'Desktop applications developer',\n",
       " 'Developer with stats/math background',\n",
       " 'DevOps',\n",
       " 'Embedded developer',\n",
       " 'Graphic designer',\n",
       " 'Graphics programming',\n",
       " 'Machine learning specialist',\n",
       " 'Mobile developer',\n",
       " 'Quality assurance engineer',\n",
       " 'Systems administrator',\n",
       " 'Web developer',\n",
       " '    ',\n",
       " 'Company_label']"
      ]
     },
     "execution_count": 39,
     "metadata": {},
     "output_type": "execute_result"
    }
   ],
   "source": [
    "data.columns.tolist()"
   ]
  },
  {
   "cell_type": "code",
   "execution_count": 40,
   "metadata": {},
   "outputs": [
    {
     "data": {
      "text/plain": [
       "array(['high', 'medium', 'low'], dtype=object)"
      ]
     },
     "execution_count": 40,
     "metadata": {},
     "output_type": "execute_result"
    }
   ],
   "source": [
    "data['Company_label'].unique()"
   ]
  },
  {
   "cell_type": "code",
   "execution_count": 42,
   "metadata": {},
   "outputs": [
    {
     "data": {
      "text/plain": [
       "1530"
      ]
     },
     "execution_count": 42,
     "metadata": {},
     "output_type": "execute_result"
    }
   ],
   "source": [
    "data.query(\"Company_label=='high'\").shape[0]"
   ]
  },
  {
   "cell_type": "code",
   "execution_count": 43,
   "metadata": {},
   "outputs": [
    {
     "data": {
      "text/plain": [
       "4305"
      ]
     },
     "execution_count": 43,
     "metadata": {},
     "output_type": "execute_result"
    }
   ],
   "source": [
    "data.query(\"Company_label=='medium'\").shape[0]"
   ]
  },
  {
   "cell_type": "code",
   "execution_count": 44,
   "metadata": {},
   "outputs": [
    {
     "data": {
      "text/plain": [
       "1156"
      ]
     },
     "execution_count": 44,
     "metadata": {},
     "output_type": "execute_result"
    }
   ],
   "source": [
    "data.query(\"Company_label=='low'\").shape[0]"
   ]
  },
  {
   "cell_type": "code",
   "execution_count": null,
   "metadata": {},
   "outputs": [],
   "source": [
    "# Q14 : After creating group wise summaries to understand the data, we can create new columns in the data that can be used for \n",
    "# modelling later on –\n",
    "# Create a new column to flag those who are Data scientist or a Developer with stats/math background or a Machine learning \n",
    "#specialist. _____ observations are present in the data that satisfy this condition? \n",
    "\n",
    "# Hint 1: Define a function or use lambda to define a function to flag those rows that satisfy the given condition as 1. \n",
    "#Create a new column to store these flagged labels. Count the no. of 1’s in a newly created column.\n",
    "\n",
    "# Hint 2: Once you define a function use apply to create a new column. For example if the new function is called get_label use \n",
    "#the statement below to create the new column :\n",
    "# data['new_col'] = data.apply(get_label,axis=1)\n",
    "# Count the no. of 1’s in the data['new'] and this should give the answer to question.\n",
    "\n",
    "#Answer : 1129"
   ]
  },
  {
   "cell_type": "code",
   "execution_count": 45,
   "metadata": {},
   "outputs": [],
   "source": [
    "def get_label(x):\n",
    "    if (x['Datascientist']==1 or x['Developer with stats/math background']==1 or x['Machine learning specialist']==1):\n",
    "        return 1\n",
    "    else:\n",
    "        return 0\n",
    "    \n",
    "data['new_col']=data.apply(get_label,axis=1)"
   ]
  },
  {
   "cell_type": "code",
   "execution_count": 46,
   "metadata": {},
   "outputs": [
    {
     "data": {
      "text/plain": [
       "['RespondentID',\n",
       " 'Country',\n",
       " 'Salary',\n",
       " 'YearsCodedJob',\n",
       " 'OpenSource',\n",
       " 'Hobby',\n",
       " 'CompanySizeNumber',\n",
       " 'Remote',\n",
       " 'CareerSatisfaction',\n",
       " 'Datascientist',\n",
       " 'Database administrator',\n",
       " 'Desktop applications developer',\n",
       " 'Developer with stats/math background',\n",
       " 'DevOps',\n",
       " 'Embedded developer',\n",
       " 'Graphic designer',\n",
       " 'Graphics programming',\n",
       " 'Machine learning specialist',\n",
       " 'Mobile developer',\n",
       " 'Quality assurance engineer',\n",
       " 'Systems administrator',\n",
       " 'Web developer',\n",
       " '    ',\n",
       " 'Company_label',\n",
       " 'new_col']"
      ]
     },
     "execution_count": 46,
     "metadata": {},
     "output_type": "execute_result"
    }
   ],
   "source": [
    "data.columns.tolist()"
   ]
  },
  {
   "cell_type": "code",
   "execution_count": 47,
   "metadata": {},
   "outputs": [
    {
     "data": {
      "text/plain": [
       "array([0, 1], dtype=int64)"
      ]
     },
     "execution_count": 47,
     "metadata": {},
     "output_type": "execute_result"
    }
   ],
   "source": [
    "data['new_col'].unique()"
   ]
  },
  {
   "cell_type": "code",
   "execution_count": 48,
   "metadata": {},
   "outputs": [
    {
     "data": {
      "text/plain": [
       "1129"
      ]
     },
     "execution_count": 48,
     "metadata": {},
     "output_type": "execute_result"
    }
   ],
   "source": [
    "data[data['new_col']==1].shape[0]"
   ]
  }
 ],
 "metadata": {
  "kernelspec": {
   "display_name": "Python 3",
   "language": "python",
   "name": "python3"
  },
  "language_info": {
   "codemirror_mode": {
    "name": "ipython",
    "version": 3
   },
   "file_extension": ".py",
   "mimetype": "text/x-python",
   "name": "python",
   "nbconvert_exporter": "python",
   "pygments_lexer": "ipython3",
   "version": "3.7.4"
  }
 },
 "nbformat": 4,
 "nbformat_minor": 2
}
